{
 "cells": [
  {
   "cell_type": "markdown",
   "id": "130fa0dd",
   "metadata": {},
   "source": [
    "# Hours Prediction"
   ]
  },
  {
   "cell_type": "code",
   "execution_count": 1,
   "id": "398eb415",
   "metadata": {},
   "outputs": [],
   "source": [
    "import pandas as pd\n",
    "from collections import defaultdict\n",
    "import math\n",
    "import numpy as np\n",
    "from progressbar import progressbar\n",
    "import gzip"
   ]
  },
  {
   "cell_type": "code",
   "execution_count": 2,
   "id": "2ac233f4-1b7c-4ba5-9449-4bc86a332c70",
   "metadata": {},
   "outputs": [],
   "source": [
    "def readJSON(path):\n",
    "    f = gzip.open(path, 'rt')\n",
    "    f.readline()\n",
    "    for l in f:\n",
    "        d = eval(l)\n",
    "        u = d['userID']\n",
    "        g = d['gameID']\n",
    "        yield u,g,d\n",
    "\n",
    "allHours = []\n",
    "for l in readJSON(\"data/train.json.gz\"):\n",
    "    allHours.append(l)"
   ]
  },
  {
   "cell_type": "code",
   "execution_count": 3,
   "id": "269a333d-8e38-48d3-af80-bd15b5b990e5",
   "metadata": {},
   "outputs": [],
   "source": [
    "items = []\n",
    "users = []\n",
    "hours = []\n",
    "\n",
    "for user, item, d in allHours:\n",
    "    items.append(item)\n",
    "    users.append(user)\n",
    "    hours.append(d['hours_transformed'])\n",
    "\n",
    "hoursTrainUsers = users[:165000]\n",
    "hoursTrainItems = items[:165000]\n",
    "hoursTrainHours = hours[:165000]\n",
    "\n",
    "hoursValidUsers = users[165000:]\n",
    "hoursValidItems = items[165000:]\n",
    "hoursValidHours = hours[165000:]"
   ]
  },
  {
   "cell_type": "code",
   "execution_count": 4,
   "id": "053ee2d6",
   "metadata": {},
   "outputs": [],
   "source": [
    "# calculate averaged play time for each user\n",
    "def get_userAverage(users, hours):\n",
    "    temp = defaultdict(list)\n",
    "    for user, hour in zip(users, hours):\n",
    "        temp[user].append(hour)\n",
    "    \n",
    "    userAverage = {}\n",
    "    for user in temp:\n",
    "        userAverage[user] = float(sum(temp[user]) / len(temp[user]))\n",
    "    \n",
    "    return userAverage\n",
    "\n",
    "\n",
    "def get_itemAverage(items, hours):\n",
    "    temp = defaultdict(list)\n",
    "    for item, hour in zip(items, hours):\n",
    "        temp[item].append(hour)\n",
    "    \n",
    "    itemAverage = {}\n",
    "    for item in temp:\n",
    "        itemAverage[item] = float(sum(temp[item]) / len(temp[item]))\n",
    "    \n",
    "    return itemAverage\n",
    "\n",
    "\n",
    "def MSE(preds, truth_vals):\n",
    "    assert len(preds) == len(truth_vals)\n",
    "    temp = [(x-y)**2 for x, y in zip(preds, truth_vals)]\n",
    "    return sum(temp) / len(temp)"
   ]
  },
  {
   "cell_type": "code",
   "execution_count": 5,
   "id": "de7b89c4",
   "metadata": {},
   "outputs": [],
   "source": [
    "# the following two variables will be used when users/items do not appear in the training set\n",
    "globalAverage = float(sum(hoursTrainHours) / len(hoursTrainHours))\n",
    "userAverage = get_userAverage(hoursTrainUsers, hoursTrainHours)\n",
    "itemAverage = get_itemAverage(hoursTrainItems, hoursTrainHours)"
   ]
  },
  {
   "cell_type": "code",
   "execution_count": 6,
   "id": "a85dc4ae",
   "metadata": {},
   "outputs": [],
   "source": [
    "hoursPerUser = defaultdict(list)\n",
    "hoursPerItem = defaultdict(list)\n",
    "itemsPerUser = defaultdict(set)\n",
    "usersPerItem = defaultdict(set)\n",
    "\n",
    "for user, item, hour in zip(hoursTrainUsers, hoursTrainItems, hoursTrainHours):\n",
    "    hoursPerUser[user].append(hour)\n",
    "    hoursPerItem[item].append(hour)\n",
    "    itemsPerUser[user].add(item)\n",
    "    usersPerItem[item].add(user)"
   ]
  },
  {
   "cell_type": "code",
   "execution_count": 7,
   "id": "54742e0b",
   "metadata": {},
   "outputs": [],
   "source": [
    "ibetaU = {}\n",
    "ibetaI = {}\n",
    "for u in hoursPerUser:\n",
    "    ibetaU[u] = np.random.normal(loc = 0.0, scale = 0.1)\n",
    "\n",
    "for g in hoursPerItem:\n",
    "    ibetaI[g] = np.random.normal(loc = 0.0, scale = 0.1)\n",
    "\n",
    "ialpha = globalAverage # Could initialize anywhere, this is a guess\n",
    "\n",
    "hourDict = {}\n",
    "for user, item, hour in zip(hoursTrainUsers, hoursTrainItems, hoursTrainHours):\n",
    "    hourDict[(user, item)] = hour\n",
    "Ntrain = len(hourDict)\n",
    "\n",
    "def update_once(oldAlpha, oldBetaU, oldBetaI, lambU, lambI):\n",
    "    # update data alpha\n",
    "    temp = 0\n",
    "    for user, game in hourDict:\n",
    "        Rui = hourDict[(user, game)]\n",
    "        bu = oldBetaU[user]\n",
    "        bi = oldBetaI[game]\n",
    "        temp += (Rui - (bu + bi))\n",
    "    newAlpha = temp / Ntrain\n",
    "    \n",
    "    # update betaU\n",
    "    newBetaU = {}\n",
    "    for user in oldBetaU:\n",
    "        temp = 0\n",
    "        items = itemsPerUser[user]\n",
    "        for item in items:\n",
    "            Rui = hourDict[(user, item)]\n",
    "            bi = oldBetaI[item]\n",
    "            temp += (Rui - (newAlpha + bi))\n",
    "        newBetaU[user] = temp / (lambU + len(items))\n",
    "    \n",
    "    # update betaI\n",
    "    newBetaI = {}\n",
    "    for item in oldBetaI:\n",
    "        temp = 0\n",
    "        users = usersPerItem[item]\n",
    "        for user in users:\n",
    "            Rui = hourDict[(user, item)]\n",
    "            bu = newBetaU[user]\n",
    "            temp += (Rui - (newAlpha + bu))\n",
    "        newBetaI[item] = temp / (lambI + len(users))\n",
    "    \n",
    "    return newAlpha, newBetaU, newBetaI\n",
    "\n",
    "def iterate(lambU, lambI, niter, init_alpha, init_betaU, init_betaI):\n",
    "    alpha, betaU, betaI = update_once(init_alpha, init_betaU, init_betaI, lambU, lambI)\n",
    "    for _ in progressbar( range(niter - 1) ):\n",
    "        alpha, betaU, betaI = update_once(alpha, betaU, betaI, lambU, lambI)\n",
    "    return alpha, betaU, betaI"
   ]
  },
  {
   "cell_type": "code",
   "execution_count": 8,
   "id": "d7c3141d",
   "metadata": {},
   "outputs": [
    {
     "name": "stderr",
     "output_type": "stream",
     "text": [
      "100% (49 of 49) |########################| Elapsed Time: 0:00:06 Time:  0:00:06\n"
     ]
    },
    {
     "name": "stdout",
     "output_type": "stream",
     "text": [
      "MSE in training   set for hours prediction 2.7948832285449505\n",
      "MSE in validation set for hours prediction 2.9857847050835074\n"
     ]
    }
   ],
   "source": [
    "fit_alpha, fit_betaU, fit_betaI = iterate(9.84, 2.15, 50, ialpha, ibetaU, ibetaI)\n",
    "\n",
    "# evaluation\n",
    "train_preds = [fit_alpha + fit_betaI[item] + fit_betaU[user] for user, item in zip(hoursTrainUsers, hoursTrainItems)]\n",
    "print(f\"MSE in training   set for hours prediction {MSE(train_preds, hoursTrainHours)}\")\n",
    "# validation set evaluation\n",
    "valid_preds = [fit_alpha + fit_betaI[item] + fit_betaU[user] for user, item in zip(hoursValidUsers, hoursValidItems)]\n",
    "print(f\"MSE in validation set for hours prediction {MSE(valid_preds, hoursValidHours)}\")"
   ]
  },
  {
   "cell_type": "code",
   "execution_count": 9,
   "id": "f495d20c",
   "metadata": {},
   "outputs": [],
   "source": [
    "# test set prediction\n",
    "\n",
    "predictions = open(\"predictions/predictions_Hours.csv\", 'w')\n",
    "for l in open(\"predictions/pairs_Hours.csv\"):\n",
    "    if l.startswith(\"userID\"):\n",
    "        #header\n",
    "        predictions.write(l)\n",
    "        continue\n",
    "    u,g = l.strip().split(',')\n",
    "    alpha = fit_alpha\n",
    "    bu = fit_betaU[u]\n",
    "    bi = fit_betaI[g]\n",
    "    _ = predictions.write(u + ',' + g + ',' + str(alpha + bu + bi) + '\\n')\n",
    "\n",
    "predictions.close()"
   ]
  },
  {
   "cell_type": "markdown",
   "id": "8d24b675",
   "metadata": {},
   "source": [
    "# Would Play Prediction"
   ]
  },
  {
   "cell_type": "code",
   "execution_count": 10,
   "id": "b84d6fd7",
   "metadata": {},
   "outputs": [],
   "source": [
    "import pandas as pd\n",
    "import scipy\n",
    "from progressbar import progressbar\n",
    "from collections import defaultdict\n",
    "import matplotlib.pyplot as plt\n",
    "import copy\n",
    "import random\n",
    "import numpy as np\n",
    "from sklearn import linear_model\n",
    "import tensorflow as tf\n",
    "import gzip"
   ]
  },
  {
   "cell_type": "code",
   "execution_count": 11,
   "id": "4a78ec67",
   "metadata": {},
   "outputs": [],
   "source": [
    "def readJSON(path):\n",
    "    f = gzip.open(path, 'rt')\n",
    "    f.readline()\n",
    "    for l in f:\n",
    "        d = eval(l)\n",
    "        u = d['userID']\n",
    "        g = d['gameID']\n",
    "        yield u,g,d\n",
    "\n",
    "allHours = []\n",
    "for l in readJSON(\"data/train.json.gz\"):\n",
    "    allHours.append(l)"
   ]
  },
  {
   "cell_type": "code",
   "execution_count": 12,
   "id": "80d06bcb-97f0-489b-a4e9-daef7f4bcf30",
   "metadata": {},
   "outputs": [],
   "source": [
    "# generate all interactions ()\n",
    "allPositiveInter = []\n",
    "for d in allHours:\n",
    "    user, item, _ = d\n",
    "    allPositiveInter.append((user, item, 1))\n",
    "\n",
    "# all positive train samples\n",
    "trainPositiveInter = allPositiveInter[:165000]\n",
    "\n",
    "# all positive valid samples\n",
    "validPositiveInter = allPositiveInter[165000:]\n",
    "\n"
   ]
  },
  {
   "cell_type": "code",
   "execution_count": 13,
   "id": "4df754a6-bd16-49e0-a008-9b32582f21d5",
   "metadata": {},
   "outputs": [],
   "source": [
    "# generate negative samples\n",
    "\n",
    "userSet = set()\n",
    "itemSet = set()\n",
    "playedSet = set()\n",
    "for user, item, _ in allPositiveInter:\n",
    "    userSet.add(user)\n",
    "    itemSet.add(item)\n",
    "    playedSet.add((user, item))\n",
    "lUserSet = list(userSet)\n",
    "lItemSet = list(itemSet)\n",
    "\n",
    "\n",
    "# generate negative samples for training set\n",
    "temp = set()\n",
    "trainNegativeInter = []\n",
    "for user, _, _ in trainPositiveInter:\n",
    "    item = random.choice(lItemSet)\n",
    "    while ( (user, item) in playedSet ) or ( (user, item) in temp ):\n",
    "        item = random.choice(lItemSet)\n",
    "    temp.add((user, item))\n",
    "    trainNegativeInter.append((user, item, 0))\n",
    "\n",
    "# generate negative samples for validation set\n",
    "temp1 = set()\n",
    "validNegativeInter = []\n",
    "for user, _, _ in validPositiveInter:\n",
    "    item = random.choice(lItemSet)\n",
    "    while ( (user, item) in playedSet ) or ( (user, item) in temp ) or ((user, item) in temp1):\n",
    "        item = random.choice(lItemSet)\n",
    "    temp1.add((user, item))\n",
    "    validNegativeInter.append((user, item, 0))\n",
    "\n",
    "# put postive and negative train samples together\n",
    "temp1 = trainPositiveInter.copy()\n",
    "temp2 = trainNegativeInter.copy()\n",
    "trainInter = temp1 + temp2\n",
    "\n",
    "# put positive and negative valid samples together\n",
    "temp1 = validPositiveInter.copy()\n",
    "temp2 = validNegativeInter.copy()\n",
    "validInter = temp1 + temp2"
   ]
  },
  {
   "cell_type": "code",
   "execution_count": 14,
   "id": "2a542e87",
   "metadata": {},
   "outputs": [],
   "source": [
    "# only count positive samples\n",
    "\n",
    "usersPerItem = defaultdict(set)\n",
    "itemsPerUser = defaultdict(set)\n",
    "for user, item, _ in trainPositiveInter:\n",
    "    usersPerItem[item].add(user)\n",
    "    itemsPerUser[user].add(item)"
   ]
  },
  {
   "cell_type": "code",
   "execution_count": 15,
   "id": "0a716656-1d12-44e0-a5b9-ef7ed2529410",
   "metadata": {},
   "outputs": [],
   "source": [
    "itemCount = defaultdict(int)\n",
    "totalPlayed = 0\n",
    "\n",
    "for user, item, _ in trainPositiveInter:\n",
    "    itemCount[item] += 1\n",
    "    totalPlayed += 1\n",
    "\n",
    "mostPopular = [(itemCount[x], x) for x in itemCount]\n",
    "mostPopular.sort()\n",
    "mostPopular.reverse()\n"
   ]
  },
  {
   "cell_type": "code",
   "execution_count": 16,
   "id": "2e665e44",
   "metadata": {},
   "outputs": [],
   "source": [
    "def accuracy(preds, labels):\n",
    "    assert len(preds) == len(labels)\n",
    "    correct = 0\n",
    "    for y, yhat in zip(labels, preds):\n",
    "        if y == yhat:\n",
    "            correct += 1\n",
    "    return correct / len(preds)"
   ]
  },
  {
   "cell_type": "code",
   "execution_count": 17,
   "id": "7d7eb8cb",
   "metadata": {},
   "outputs": [],
   "source": [
    "# pth, how many top percent\n",
    "def popularity_model(user, item, pth):\n",
    "    \n",
    "    return1 = set()\n",
    "    count = 0\n",
    "    \n",
    "    for ic, i in mostPopular:\n",
    "        count += ic\n",
    "        return1.add(i)\n",
    "        if count > totalPlayed * pth: \n",
    "            break\n",
    "    \n",
    "    if item in return1:\n",
    "        return 1\n",
    "    return 0"
   ]
  },
  {
   "cell_type": "code",
   "execution_count": 18,
   "id": "a1c85fdc",
   "metadata": {},
   "outputs": [
    {
     "name": "stderr",
     "output_type": "stream",
     "text": [
      "100% (20 of 20) |########################| Elapsed Time: 0:00:25 Time:  0:00:25\n"
     ]
    }
   ],
   "source": [
    "# find best pth\n",
    "# pths = [i/1000 for i in range(681, 721)]\n",
    "pths = [i/1000 for i in range(681, 701)]\n",
    "accus = []\n",
    "\n",
    "trueLabel = [p for _, _, p in validInter]\n",
    "for pth in progressbar( pths ):\n",
    "    preds = [popularity_model(user, item, pth) for user, item, _ in validInter]\n",
    "    accus.append(accuracy(preds, trueLabel))"
   ]
  },
  {
   "cell_type": "code",
   "execution_count": 19,
   "id": "0ced8651",
   "metadata": {},
   "outputs": [
    {
     "data": {
      "text/plain": [
       "[<matplotlib.lines.Line2D at 0x2bb291270>]"
      ]
     },
     "execution_count": 19,
     "metadata": {},
     "output_type": "execute_result"
    },
    {
     "data": {
      "image/png": "[encoded data removed]",
      "text/plain": [
       "<Figure size 640x480 with 1 Axes>"
      ]
     },
     "metadata": {},
     "output_type": "display_data"
    }
   ],
   "source": [
    "plt.plot(pths, accus)"
   ]
  },
  {
   "cell_type": "code",
   "execution_count": 20,
   "id": "bb325ba8",
   "metadata": {},
   "outputs": [
    {
     "name": "stdout",
     "output_type": "stream",
     "text": [
      "best pth = 0.69 with accuracy 0.7056205620562056\n"
     ]
    }
   ],
   "source": [
    "bestpth = pths[accus.index(max(accus))]\n",
    "print(f\"best pth = {bestpth} with accuracy {max(accus)}\")"
   ]
  },
  {
   "cell_type": "code",
   "execution_count": 21,
   "id": "489efcde-3362-4dbf-b5ab-fade2c479db3",
   "metadata": {},
   "outputs": [],
   "source": [
    "# generate item Ids and user id for BPR\n",
    "userIDs = {}\n",
    "itemIDs = {}\n",
    "for user, item, _ in trainPositiveInter:\n",
    "    if not user in userIDs: userIDs[user] = len(userIDs)\n",
    "    if not item in itemIDs: itemIDs[item] = len(itemIDs)"
   ]
  },
  {
   "cell_type": "code",
   "execution_count": 22,
   "id": "b59ad995-e533-4b73-aa72-00068a8367e3",
   "metadata": {},
   "outputs": [],
   "source": [
    "class BPRbatch(tf.keras.Model):\n",
    "    def __init__(self, K, lamb):\n",
    "        \n",
    "        super(BPRbatch, self).__init__()\n",
    "        # Initialize variables\n",
    "        self.betaU = tf.Variable(tf.random.normal([len(userIDs)],stddev=0.001))\n",
    "        self.betaI = tf.Variable(tf.random.normal([len(itemIDs)],stddev=0.001))\n",
    "        self.gammaU = tf.Variable(tf.random.normal([len(userIDs),K],stddev=0.001))\n",
    "        self.gammaI = tf.Variable(tf.random.normal([len(itemIDs),K],stddev=0.001))\n",
    "        # Regularization coefficient\n",
    "        self.lamb = lamb\n",
    "\n",
    "    # Regularizer\n",
    "    def reg(self):\n",
    "        return self.lamb * (tf.nn.l2_loss(self.betaI) + tf.nn.l2_loss(self.betaU) + tf.nn.l2_loss(self.gammaU) + tf.nn.l2_loss(self.gammaI))\n",
    "    \n",
    "    def score(self, sampleU, sampleI):\n",
    "        u = tf.convert_to_tensor(sampleU, dtype=tf.int32)\n",
    "        i = tf.convert_to_tensor(sampleI, dtype=tf.int32)\n",
    "        beta_u = tf.nn.embedding_lookup(self.betaU, u)\n",
    "        beta_i = tf.nn.embedding_lookup(self.betaI, i)\n",
    "        gamma_u = tf.nn.embedding_lookup(self.gammaU, u)\n",
    "        gamma_i = tf.nn.embedding_lookup(self.gammaI, i)\n",
    "        x_ui = beta_u + beta_i + tf.reduce_sum(tf.multiply(gamma_u, gamma_i), 1)\n",
    "        return x_ui\n",
    "\n",
    "    def call(self, sampleU, sampleI, sampleJ):\n",
    "        x_ui = self.score(sampleU, sampleI)\n",
    "        x_uj = self.score(sampleU, sampleJ)\n",
    "        return -tf.reduce_mean(tf.math.log(tf.math.sigmoid(x_ui - x_uj)))"
   ]
  },
  {
   "cell_type": "code",
   "execution_count": 23,
   "id": "95793ed3-ac87-4ad7-94aa-1753a8b084be",
   "metadata": {},
   "outputs": [],
   "source": [
    "items = list(itemIDs.keys())"
   ]
  },
  {
   "cell_type": "code",
   "execution_count": 24,
   "id": "4ccf9623-4d9c-4afd-86f4-bd4a8812713a",
   "metadata": {},
   "outputs": [],
   "source": [
    "def trainingStepBPR(model, interactions):\n",
    "    Nsamples = 50000\n",
    "    with tf.GradientTape() as tape:\n",
    "        sampleU, sampleI, sampleJ = [], [], []\n",
    "        for _ in range(Nsamples):\n",
    "            u,i,_ = random.choice(interactions) # positive sample\n",
    "            j = random.choice(items) # negative sample\n",
    "            while j in itemsPerUser[u]:\n",
    "                j = random.choice(items)\n",
    "            sampleU.append(userIDs[u])\n",
    "            sampleI.append(itemIDs[i])\n",
    "            sampleJ.append(itemIDs[j])\n",
    "\n",
    "        loss = model(sampleU,sampleI,sampleJ)\n",
    "        loss += model.reg()\n",
    "    gradients = tape.gradient(loss, model.trainable_variables)\n",
    "    optimizer.apply_gradients((grad, var) for\n",
    "                              (grad, var) in zip(gradients, model.trainable_variables)\n",
    "                              if grad is not None)\n",
    "    return loss.numpy()"
   ]
  },
  {
   "cell_type": "code",
   "execution_count": 38,
   "id": "2944f585-18fd-426b-8104-ddeefd1e5689",
   "metadata": {},
   "outputs": [
    {
     "name": "stdout",
     "output_type": "stream",
     "text": [
      "iteration 10, loss = 0.5667663\n",
      "iteration 20, loss = 0.49331567\n",
      "iteration 30, loss = 0.48735017\n",
      "iteration 40, loss = 0.46818182\n",
      "iteration 50, loss = 0.46125227\n",
      "iteration 60, loss = 0.45212814\n",
      "iteration 70, loss = 0.44997102\n",
      "iteration 80, loss = 0.44510224\n",
      "iteration 90, loss = 0.44045034\n",
      "iteration 100, loss = 0.44137967\n",
      "iteration 110, loss = 0.4378162\n",
      "iteration 120, loss = 0.43932867\n",
      "Trained for 121 iterations with final loss = 0.4339081645011902\n"
     ]
    }
   ],
   "source": [
    "modelBPR = BPRbatch(5, 0.00001)\n",
    "optimizer = tf.keras.optimizers.legacy.Adam(0.05)\n",
    "\n",
    "random.seed(0)\n",
    "loss = 1\n",
    "counter = 0\n",
    "\n",
    "while loss > 0.434:\n",
    "    loss = trainingStepBPR(modelBPR, trainPositiveInter)\n",
    "    if (counter % 10 == 9): print(\"iteration \" + str(counter+1) + \", loss = \" + str(loss))\n",
    "    counter += 1\n",
    "print(f\"Trained for {counter} iterations with final loss = {loss}\")\n",
    "\n",
    "# convert to numpy for faster computation\n",
    "betai = np.array(modelBPR.betaI)\n",
    "betau = np.array(modelBPR.betaU)\n",
    "gammai = np.array(modelBPR.gammaI)\n",
    "gammau = np.array(modelBPR.gammaU)"
   ]
  },
  {
   "cell_type": "code",
   "execution_count": 39,
   "id": "11253c5f-a911-48b5-b72f-151aef2803de",
   "metadata": {},
   "outputs": [
    {
     "data": {
      "text/html": [
       "<style>#sk-container-id-3 {color: black;}#sk-container-id-3 pre{padding: 0;}#sk-container-id-3 div.sk-toggleable {background-color: white;}#sk-container-id-3 label.sk-toggleable__label {cursor: pointer;display: block;width: 100%;margin-bottom: 0;padding: 0.3em;box-sizing: border-box;text-align: center;}#sk-container-id-3 label.sk-toggleable__label-arrow:before {content: \"▸\";float: left;margin-right: 0.25em;color: #696969;}#sk-container-id-3 label.sk-toggleable__label-arrow:hover:before {color: black;}#sk-container-id-3 div.sk-estimator:hover label.sk-toggleable__label-arrow:before {color: black;}#sk-container-id-3 div.sk-toggleable__content {max-height: 0;max-width: 0;overflow: hidden;text-align: left;background-color: #f0f8ff;}#sk-container-id-3 div.sk-toggleable__content pre {margin: 0.2em;color: black;border-radius: 0.25em;background-color: #f0f8ff;}#sk-container-id-3 input.sk-toggleable__control:checked~div.sk-toggleable__content {max-height: 200px;max-width: 100%;overflow: auto;}#sk-container-id-3 input.sk-toggleable__control:checked~label.sk-toggleable__label-arrow:before {content: \"▾\";}#sk-container-id-3 div.sk-estimator input.sk-toggleable__control:checked~label.sk-toggleable__label {background-color: #d4ebff;}#sk-container-id-3 div.sk-label input.sk-toggleable__control:checked~label.sk-toggleable__label {background-color: #d4ebff;}#sk-container-id-3 input.sk-hidden--visually {border: 0;clip: rect(1px 1px 1px 1px);clip: rect(1px, 1px, 1px, 1px);height: 1px;margin: -1px;overflow: hidden;padding: 0;position: absolute;width: 1px;}#sk-container-id-3 div.sk-estimator {font-family: monospace;background-color: #f0f8ff;border: 1px dotted black;border-radius: 0.25em;box-sizing: border-box;margin-bottom: 0.5em;}#sk-container-id-3 div.sk-estimator:hover {background-color: #d4ebff;}#sk-container-id-3 div.sk-parallel-item::after {content: \"\";width: 100%;border-bottom: 1px solid gray;flex-grow: 1;}#sk-container-id-3 div.sk-label:hover label.sk-toggleable__label {background-color: #d4ebff;}#sk-container-id-3 div.sk-serial::before {content: \"\";position: absolute;border-left: 1px solid gray;box-sizing: border-box;top: 0;bottom: 0;left: 50%;z-index: 0;}#sk-container-id-3 div.sk-serial {display: flex;flex-direction: column;align-items: center;background-color: white;padding-right: 0.2em;padding-left: 0.2em;position: relative;}#sk-container-id-3 div.sk-item {position: relative;z-index: 1;}#sk-container-id-3 div.sk-parallel {display: flex;align-items: stretch;justify-content: center;background-color: white;position: relative;}#sk-container-id-3 div.sk-item::before, #sk-container-id-3 div.sk-parallel-item::before {content: \"\";position: absolute;border-left: 1px solid gray;box-sizing: border-box;top: 0;bottom: 0;left: 50%;z-index: -1;}#sk-container-id-3 div.sk-parallel-item {display: flex;flex-direction: column;z-index: 1;position: relative;background-color: white;}#sk-container-id-3 div.sk-parallel-item:first-child::after {align-self: flex-end;width: 50%;}#sk-container-id-3 div.sk-parallel-item:last-child::after {align-self: flex-start;width: 50%;}#sk-container-id-3 div.sk-parallel-item:only-child::after {width: 0;}#sk-container-id-3 div.sk-dashed-wrapped {border: 1px dashed gray;margin: 0 0.4em 0.5em 0.4em;box-sizing: border-box;padding-bottom: 0.4em;background-color: white;}#sk-container-id-3 div.sk-label label {font-family: monospace;font-weight: bold;display: inline-block;line-height: 1.2em;}#sk-container-id-3 div.sk-label-container {text-align: center;}#sk-container-id-3 div.sk-container {/* jupyter's `normalize.less` sets `[hidden] { display: none; }` but bootstrap.min.css set `[hidden] { display: none !important; }` so we also need the `!important` here to be able to override the default hidden behavior on the sphinx rendered scikit-learn.org. See: https://github.com/scikit-learn/scikit-learn/issues/21755 */display: inline-block !important;position: relative;}#sk-container-id-3 div.sk-text-repr-fallback {display: none;}</style><div id=\"sk-container-id-3\" class=\"sk-top-container\"><div class=\"sk-text-repr-fallback\"><pre>LogisticRegression(class_weight=&#x27;balanced&#x27;, fit_intercept=False)</pre><b>In a Jupyter environment, please rerun this cell to show the HTML representation or trust the notebook. <br />On GitHub, the HTML representation is unable to render, please try loading this page with nbviewer.org.</b></div><div class=\"sk-container\" hidden><div class=\"sk-item\"><div class=\"sk-estimator sk-toggleable\"><input class=\"sk-toggleable__control sk-hidden--visually\" id=\"sk-estimator-id-3\" type=\"checkbox\" checked><label for=\"sk-estimator-id-3\" class=\"sk-toggleable__label sk-toggleable__label-arrow\">LogisticRegression</label><div class=\"sk-toggleable__content\"><pre>LogisticRegression(class_weight=&#x27;balanced&#x27;, fit_intercept=False)</pre></div></div></div></div></div>"
      ],
      "text/plain": [
       "LogisticRegression(class_weight='balanced', fit_intercept=False)"
      ]
     },
     "execution_count": 39,
     "metadata": {},
     "output_type": "execute_result"
    }
   ],
   "source": [
    "# train a regressor to find threshold\n",
    "temp1 = trainInter.copy()\n",
    "temp2 = validInter.copy()\n",
    "temp3 = temp1 + temp2 \n",
    "\n",
    "regressorInter = temp2\n",
    "\n",
    "trainX = [[1,  betau[userIDs[user]] + betai[itemIDs[item]]  + np.dot( gammai[itemIDs[item]] , gammau[userIDs[user]]  ) ] for user, item, _ in regressorInter ]\n",
    "trainX = np.array(trainX)\n",
    "trainY = [p for _, _, p in regressorInter] ; trainY = np.array(trainY)\n",
    "\n",
    "logreg = linear_model.LogisticRegression(fit_intercept=False, class_weight='balanced')\n",
    "logreg.fit(trainX, trainY)"
   ]
  },
  {
   "cell_type": "code",
   "execution_count": 40,
   "id": "3e01353e-66a3-47a1-9ad4-7e7115a1a3e0",
   "metadata": {},
   "outputs": [],
   "source": [
    "def pop_predict(user, item):\n",
    "    return popularity_model(user, item, bestpth)"
   ]
  },
  {
   "cell_type": "code",
   "execution_count": 41,
   "id": "c97ab492-d57d-4194-ace0-965188f8cd13",
   "metadata": {},
   "outputs": [],
   "source": [
    "def bpr_predict(user, item):\n",
    "    if user in userIDs:\n",
    "        x =  [ [1,  betau[userIDs[user]] + betai[itemIDs[item]]  + np.dot(gammai[itemIDs[item]] , gammau[userIDs[user]]) ] ]\n",
    "        y = logreg.predict(x)\n",
    "        return y.item()\n",
    "    else:\n",
    "        print(\"using pop prediction\")\n",
    "        return pop_predict(user, item)"
   ]
  },
  {
   "cell_type": "code",
   "execution_count": 42,
   "id": "fc5079a3-6da4-4221-8b17-1e0e9ee45fc3",
   "metadata": {},
   "outputs": [
    {
     "name": "stderr",
     "output_type": "stream",
     "text": [
      "100% (330000 of 330000) |################| Elapsed Time: 0:00:10 Time:  0:00:10\n",
      "100% (19998 of 19998) |##################| Elapsed Time: 0:00:00 Time:  0:00:00\n"
     ]
    },
    {
     "name": "stdout",
     "output_type": "stream",
     "text": [
      "Evaluation on training set\n",
      "Accuracy of BPR based: 0.757030303030303\n",
      "\n",
      "Evaluation on validation set\n",
      "Accuracy of BPR based: 0.7218221822182218\n"
     ]
    }
   ],
   "source": [
    "# evalulation\n",
    "yTrain = [p for _, _, p in trainInter]\n",
    "yValid = [p for _, _, p in validInter]\n",
    "\n",
    "yhat_bpr_train = [bpr_predict(user, item) for user, item, _ in progressbar( trainInter )]\n",
    "yhat_bpr_valid = [bpr_predict(user, item) for user, item, _ in progressbar( validInter )]\n",
    "\n",
    "print(\"Evaluation on training set\")\n",
    "print(f\"Accuracy of BPR based: {accuracy(yTrain, yhat_bpr_train)}\")\n",
    "print()\n",
    "print(\"Evaluation on validation set\")\n",
    "print(f\"Accuracy of BPR based: {accuracy(yValid, yhat_bpr_valid)}\")\n"
   ]
  },
  {
   "cell_type": "code",
   "execution_count": 43,
   "id": "b0b77e84",
   "metadata": {},
   "outputs": [
    {
     "name": "stdout",
     "output_type": "stream",
     "text": [
      "using pop prediction\n",
      "using pop prediction\n"
     ]
    }
   ],
   "source": [
    "predictions = open(\"predictions/predictions_Played.csv\", 'w')\n",
    "for l in open(\"predictions/pairs_Played.csv\"):\n",
    "    if l.startswith(\"userID\"):\n",
    "        predictions.write(l)\n",
    "        continue\n",
    "    u,g = l.strip().split(',')\n",
    "    \n",
    "    pred = bpr_predict(u, g)\n",
    "    _ = predictions.write(u + ',' + g + ',' + str(pred) + '\\n')\n",
    "\n",
    "predictions.close()"
   ]
  },
  {
   "cell_type": "code",
   "execution_count": null,
   "id": "ea578f18-f108-4152-be68-d0b3e7812276",
   "metadata": {},
   "outputs": [],
   "source": []
  }
 ],
 "metadata": {
  "kernelspec": {
   "display_name": "Python 3.10 (tensorflow)",
   "language": "python",
   "name": "tensorflow"
  },
  "language_info": {
   "codemirror_mode": {
    "name": "ipython",
    "version": 3
   },
   "file_extension": ".py",
   "mimetype": "text/x-python",
   "name": "python",
   "nbconvert_exporter": "python",
   "pygments_lexer": "ipython3",
   "version": "3.10.12"
  }
 },
 "nbformat": 4,
 "nbformat_minor": 5
}
